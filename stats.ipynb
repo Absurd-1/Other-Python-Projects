{
 "cells": [
  {
   "cell_type": "markdown",
   "metadata": {},
   "source": [
    "## Market to Advertise\n",
    "In this project, I will be determining which market is the best in an e-learning company to invest advertisement in through statistical methods."
   ]
  },
  {
   "cell_type": "code",
   "execution_count": 1,
   "metadata": {
    "collapsed": true
   },
   "outputs": [],
   "source": [
    "#importing libraries\n",
    "import pandas as pd\n",
    "import numpy as np\n",
    "import matplotlib.pyplot as plt\n",
    "%matplotlib inline\n",
    "import math\n",
    "import seaborn as sns"
   ]
  },
  {
   "cell_type": "code",
   "execution_count": 2,
   "metadata": {
    "collapsed": false
   },
   "outputs": [
    {
     "data": {
      "text/html": [
       "<div>\n",
       "<style scoped>\n",
       "    .dataframe tbody tr th:only-of-type {\n",
       "        vertical-align: middle;\n",
       "    }\n",
       "\n",
       "    .dataframe tbody tr th {\n",
       "        vertical-align: top;\n",
       "    }\n",
       "\n",
       "    .dataframe thead th {\n",
       "        text-align: right;\n",
       "    }\n",
       "</style>\n",
       "<table border=\"1\" class=\"dataframe\">\n",
       "  <thead>\n",
       "    <tr style=\"text-align: right;\">\n",
       "      <th></th>\n",
       "      <th>Age</th>\n",
       "      <th>AttendedBootcamp</th>\n",
       "      <th>BootcampFinish</th>\n",
       "      <th>BootcampLoanYesNo</th>\n",
       "      <th>BootcampName</th>\n",
       "      <th>BootcampRecommend</th>\n",
       "      <th>ChildrenNumber</th>\n",
       "      <th>CityPopulation</th>\n",
       "      <th>CodeEventConferences</th>\n",
       "      <th>CodeEventDjangoGirls</th>\n",
       "      <th>...</th>\n",
       "      <th>YouTubeFCC</th>\n",
       "      <th>YouTubeFunFunFunction</th>\n",
       "      <th>YouTubeGoogleDev</th>\n",
       "      <th>YouTubeLearnCode</th>\n",
       "      <th>YouTubeLevelUpTuts</th>\n",
       "      <th>YouTubeMIT</th>\n",
       "      <th>YouTubeMozillaHacks</th>\n",
       "      <th>YouTubeOther</th>\n",
       "      <th>YouTubeSimplilearn</th>\n",
       "      <th>YouTubeTheNewBoston</th>\n",
       "    </tr>\n",
       "  </thead>\n",
       "  <tbody>\n",
       "    <tr>\n",
       "      <th>0</th>\n",
       "      <td>27.0</td>\n",
       "      <td>0.0</td>\n",
       "      <td>NaN</td>\n",
       "      <td>NaN</td>\n",
       "      <td>NaN</td>\n",
       "      <td>NaN</td>\n",
       "      <td>NaN</td>\n",
       "      <td>more than 1 million</td>\n",
       "      <td>NaN</td>\n",
       "      <td>NaN</td>\n",
       "      <td>...</td>\n",
       "      <td>NaN</td>\n",
       "      <td>NaN</td>\n",
       "      <td>NaN</td>\n",
       "      <td>NaN</td>\n",
       "      <td>NaN</td>\n",
       "      <td>NaN</td>\n",
       "      <td>NaN</td>\n",
       "      <td>NaN</td>\n",
       "      <td>NaN</td>\n",
       "      <td>NaN</td>\n",
       "    </tr>\n",
       "    <tr>\n",
       "      <th>1</th>\n",
       "      <td>34.0</td>\n",
       "      <td>0.0</td>\n",
       "      <td>NaN</td>\n",
       "      <td>NaN</td>\n",
       "      <td>NaN</td>\n",
       "      <td>NaN</td>\n",
       "      <td>NaN</td>\n",
       "      <td>less than 100,000</td>\n",
       "      <td>NaN</td>\n",
       "      <td>NaN</td>\n",
       "      <td>...</td>\n",
       "      <td>1.0</td>\n",
       "      <td>NaN</td>\n",
       "      <td>NaN</td>\n",
       "      <td>NaN</td>\n",
       "      <td>NaN</td>\n",
       "      <td>NaN</td>\n",
       "      <td>NaN</td>\n",
       "      <td>NaN</td>\n",
       "      <td>NaN</td>\n",
       "      <td>NaN</td>\n",
       "    </tr>\n",
       "    <tr>\n",
       "      <th>2</th>\n",
       "      <td>21.0</td>\n",
       "      <td>0.0</td>\n",
       "      <td>NaN</td>\n",
       "      <td>NaN</td>\n",
       "      <td>NaN</td>\n",
       "      <td>NaN</td>\n",
       "      <td>NaN</td>\n",
       "      <td>more than 1 million</td>\n",
       "      <td>NaN</td>\n",
       "      <td>NaN</td>\n",
       "      <td>...</td>\n",
       "      <td>NaN</td>\n",
       "      <td>NaN</td>\n",
       "      <td>NaN</td>\n",
       "      <td>1.0</td>\n",
       "      <td>1.0</td>\n",
       "      <td>NaN</td>\n",
       "      <td>NaN</td>\n",
       "      <td>NaN</td>\n",
       "      <td>NaN</td>\n",
       "      <td>NaN</td>\n",
       "    </tr>\n",
       "    <tr>\n",
       "      <th>3</th>\n",
       "      <td>26.0</td>\n",
       "      <td>0.0</td>\n",
       "      <td>NaN</td>\n",
       "      <td>NaN</td>\n",
       "      <td>NaN</td>\n",
       "      <td>NaN</td>\n",
       "      <td>NaN</td>\n",
       "      <td>between 100,000 and 1 million</td>\n",
       "      <td>NaN</td>\n",
       "      <td>NaN</td>\n",
       "      <td>...</td>\n",
       "      <td>1.0</td>\n",
       "      <td>1.0</td>\n",
       "      <td>NaN</td>\n",
       "      <td>NaN</td>\n",
       "      <td>1.0</td>\n",
       "      <td>NaN</td>\n",
       "      <td>NaN</td>\n",
       "      <td>NaN</td>\n",
       "      <td>NaN</td>\n",
       "      <td>NaN</td>\n",
       "    </tr>\n",
       "    <tr>\n",
       "      <th>4</th>\n",
       "      <td>20.0</td>\n",
       "      <td>0.0</td>\n",
       "      <td>NaN</td>\n",
       "      <td>NaN</td>\n",
       "      <td>NaN</td>\n",
       "      <td>NaN</td>\n",
       "      <td>NaN</td>\n",
       "      <td>between 100,000 and 1 million</td>\n",
       "      <td>NaN</td>\n",
       "      <td>NaN</td>\n",
       "      <td>...</td>\n",
       "      <td>NaN</td>\n",
       "      <td>NaN</td>\n",
       "      <td>NaN</td>\n",
       "      <td>NaN</td>\n",
       "      <td>NaN</td>\n",
       "      <td>NaN</td>\n",
       "      <td>NaN</td>\n",
       "      <td>NaN</td>\n",
       "      <td>NaN</td>\n",
       "      <td>NaN</td>\n",
       "    </tr>\n",
       "  </tbody>\n",
       "</table>\n",
       "<p>5 rows × 136 columns</p>\n",
       "</div>"
      ],
      "text/plain": [
       "    Age  AttendedBootcamp  BootcampFinish  BootcampLoanYesNo BootcampName  \\\n",
       "0  27.0               0.0             NaN                NaN          NaN   \n",
       "1  34.0               0.0             NaN                NaN          NaN   \n",
       "2  21.0               0.0             NaN                NaN          NaN   \n",
       "3  26.0               0.0             NaN                NaN          NaN   \n",
       "4  20.0               0.0             NaN                NaN          NaN   \n",
       "\n",
       "   BootcampRecommend  ChildrenNumber                 CityPopulation  \\\n",
       "0                NaN             NaN            more than 1 million   \n",
       "1                NaN             NaN              less than 100,000   \n",
       "2                NaN             NaN            more than 1 million   \n",
       "3                NaN             NaN  between 100,000 and 1 million   \n",
       "4                NaN             NaN  between 100,000 and 1 million   \n",
       "\n",
       "   CodeEventConferences  CodeEventDjangoGirls         ...           \\\n",
       "0                   NaN                   NaN         ...            \n",
       "1                   NaN                   NaN         ...            \n",
       "2                   NaN                   NaN         ...            \n",
       "3                   NaN                   NaN         ...            \n",
       "4                   NaN                   NaN         ...            \n",
       "\n",
       "   YouTubeFCC  YouTubeFunFunFunction  YouTubeGoogleDev  YouTubeLearnCode  \\\n",
       "0         NaN                    NaN               NaN               NaN   \n",
       "1         1.0                    NaN               NaN               NaN   \n",
       "2         NaN                    NaN               NaN               1.0   \n",
       "3         1.0                    1.0               NaN               NaN   \n",
       "4         NaN                    NaN               NaN               NaN   \n",
       "\n",
       "   YouTubeLevelUpTuts  YouTubeMIT  YouTubeMozillaHacks YouTubeOther  \\\n",
       "0                 NaN         NaN                  NaN          NaN   \n",
       "1                 NaN         NaN                  NaN          NaN   \n",
       "2                 1.0         NaN                  NaN          NaN   \n",
       "3                 1.0         NaN                  NaN          NaN   \n",
       "4                 NaN         NaN                  NaN          NaN   \n",
       "\n",
       "   YouTubeSimplilearn  YouTubeTheNewBoston  \n",
       "0                 NaN                  NaN  \n",
       "1                 NaN                  NaN  \n",
       "2                 NaN                  NaN  \n",
       "3                 NaN                  NaN  \n",
       "4                 NaN                  NaN  \n",
       "\n",
       "[5 rows x 136 columns]"
      ]
     },
     "execution_count": 2,
     "metadata": {},
     "output_type": "execute_result"
    }
   ],
   "source": [
    "file = pd.read_csv('2017-fCC-New-Coders-Survey-Data.csv', low_memory=False)\n",
    "file.head()"
   ]
  },
  {
   "cell_type": "code",
   "execution_count": 11,
   "metadata": {
    "collapsed": false
   },
   "outputs": [
    {
     "name": "stdout",
     "output_type": "stream",
     "text": [
      "<class 'pandas.core.frame.DataFrame'>\n",
      "RangeIndex: 18175 entries, 0 to 18174\n",
      "Columns: 136 entries, Age to YouTubeTheNewBoston\n",
      "dtypes: float64(105), object(31)\n",
      "memory usage: 18.9+ MB\n"
     ]
    }
   ],
   "source": [
    "file.info()"
   ]
  },
  {
   "cell_type": "code",
   "execution_count": 17,
   "metadata": {
    "collapsed": false
   },
   "outputs": [
    {
     "data": {
      "text/plain": [
       "Index(['Age', 'AttendedBootcamp', 'BootcampFinish', 'BootcampLoanYesNo',\n",
       "       'BootcampName', 'BootcampRecommend', 'ChildrenNumber', 'CityPopulation',\n",
       "       'CodeEventConferences', 'CodeEventDjangoGirls',\n",
       "       ...\n",
       "       'YouTubeFCC', 'YouTubeFunFunFunction', 'YouTubeGoogleDev',\n",
       "       'YouTubeLearnCode', 'YouTubeLevelUpTuts', 'YouTubeMIT',\n",
       "       'YouTubeMozillaHacks', 'YouTubeOther', 'YouTubeSimplilearn',\n",
       "       'YouTubeTheNewBoston'],\n",
       "      dtype='object', length=136)"
      ]
     },
     "execution_count": 17,
     "metadata": {},
     "output_type": "execute_result"
    }
   ],
   "source": [
    "file.columns"
   ]
  },
  {
   "cell_type": "markdown",
   "metadata": {},
   "source": [
    "The databeing I am using was collected via a survey by [FreeCodeCamp](https://www.freecodecamp.org/) in 2017. Collecting a new dataset will be expensive and time consuming therefore I resorted to this pre-collected data which can be found on this [Github page](https://github.com/freeCodeCamp/2017-new-coder-survey)."
   ]
  },
  {
   "cell_type": "markdown",
   "metadata": {},
   "source": [
    "### Representativity of the Sample\n",
    "\n",
    "I will be investigating the dataset to know what percentage of the new coders are interested in the subjects we teach, where they are located and how much they are willing to pay. All these would guide ultimately our advertising decision."
   ]
  },
  {
   "cell_type": "code",
   "execution_count": 24,
   "metadata": {
    "collapsed": false,
    "scrolled": true
   },
   "outputs": [
    {
     "data": {
      "text/plain": [
       "Full-Stack Web Developer                                                                                                                                                                                11.770595\n",
       "  Front-End Web Developer                                                                                                                                                                                6.435927\n",
       "  Data Scientist                                                                                                                                                                                         2.173913\n",
       "Back-End Web Developer                                                                                                                                                                                   2.030892\n",
       "  Mobile Developer                                                                                                                                                                                       1.673341\n",
       "Game Developer                                                                                                                                                                                           1.630435\n",
       "Information Security                                                                                                                                                                                     1.315789\n",
       "Full-Stack Web Developer,   Front-End Web Developer                                                                                                                                                      0.915332\n",
       "  Front-End Web Developer, Full-Stack Web Developer                                                                                                                                                      0.800915\n",
       "  Product Manager                                                                                                                                                                                        0.786613\n",
       "Data Engineer                                                                                                                                                                                            0.758009\n",
       "  User Experience Designer                                                                                                                                                                               0.743707\n",
       "  User Experience Designer,   Front-End Web Developer                                                                                                                                                    0.614989\n",
       "  Front-End Web Developer, Back-End Web Developer, Full-Stack Web Developer                                                                                                                              0.557780\n",
       "Back-End Web Developer,   Front-End Web Developer, Full-Stack Web Developer                                                                                                                              0.514874\n",
       "  DevOps / SysAdmin                                                                                                                                                                                      0.514874\n",
       "Back-End Web Developer, Full-Stack Web Developer,   Front-End Web Developer                                                                                                                              0.514874\n",
       "Full-Stack Web Developer,   Front-End Web Developer, Back-End Web Developer                                                                                                                              0.443364\n",
       "  Front-End Web Developer, Full-Stack Web Developer, Back-End Web Developer                                                                                                                              0.429062\n",
       "Full-Stack Web Developer,   Mobile Developer                                                                                                                                                             0.414760\n",
       "  Front-End Web Developer,   User Experience Designer                                                                                                                                                    0.414760\n",
       "Back-End Web Developer, Full-Stack Web Developer                                                                                                                                                         0.386156\n",
       "Full-Stack Web Developer, Back-End Web Developer                                                                                                                                                         0.371854\n",
       "Back-End Web Developer,   Front-End Web Developer                                                                                                                                                        0.286041\n",
       "Data Engineer,   Data Scientist                                                                                                                                                                          0.271739\n",
       "Full-Stack Web Developer, Back-End Web Developer,   Front-End Web Developer                                                                                                                              0.271739\n",
       "  Front-End Web Developer,   Mobile Developer                                                                                                                                                            0.257437\n",
       "Full-Stack Web Developer,   Data Scientist                                                                                                                                                               0.243135\n",
       "  Mobile Developer, Game Developer                                                                                                                                                                       0.228833\n",
       "  Data Scientist, Data Engineer                                                                                                                                                                          0.228833\n",
       "                                                                                                                                                                                                          ...    \n",
       "Full-Stack Web Developer, Game Developer, Back-End Web Developer,   Front-End Web Developer,   DevOps / SysAdmin                                                                                         0.014302\n",
       "Information Security, Back-End Web Developer, Full-Stack Web Developer,   Mobile Developer,   Front-End Web Developer                                                                                    0.014302\n",
       "  User Experience Designer,   Mobile Developer,   Front-End Web Developer, Data Engineer, Full-Stack Web Developer, Back-End Web Developer                                                               0.014302\n",
       "  Front-End Web Developer,   Mobile Developer,   User Experience Designer, Game Developer                                                                                                                0.014302\n",
       "  Mobile Developer,   Front-End Web Developer, Full-Stack Web Developer,   User Experience Designer, Game Developer                                                                                      0.014302\n",
       "  User Experience Designer,   Mobile Developer, Full-Stack Web Developer,   Front-End Web Developer,   DevOps / SysAdmin, Information Security                                                           0.014302\n",
       "  User Experience Designer, Back-End Web Developer, Data Engineer, Full-Stack Web Developer,   Product Manager,   Mobile Developer                                                                       0.014302\n",
       "Full-Stack Web Developer,   Front-End Web Developer, Back-End Web Developer,   Data Scientist,   User Experience Designer                                                                                0.014302\n",
       "Game Developer, Full-Stack Web Developer,   Mobile Developer,   Front-End Web Developer,   Product Manager                                                                                               0.014302\n",
       "  User Experience Designer, Data Engineer,   Front-End Web Developer,   Data Scientist,   Product Manager, Full-Stack Web Developer, Information Security                                                0.014302\n",
       "Back-End Web Developer,   Mobile Developer, Game Developer,   DevOps / SysAdmin,   Front-End Web Developer                                                                                               0.014302\n",
       "  Front-End Web Developer, Information Security, Full-Stack Web Developer,   Data Scientist                                                                                                              0.014302\n",
       "Back-End Web Developer, Full-Stack Web Developer,   Front-End Web Developer,   Mobile Developer, Information Security                                                                                    0.014302\n",
       "  Quality Assurance Engineer, Back-End Web Developer, Data Engineer, Game Developer                                                                                                                      0.014302\n",
       "  DevOps / SysAdmin,   Product Manager, Back-End Web Developer,   Front-End Web Developer                                                                                                                0.014302\n",
       "  Front-End Web Developer, Full-Stack Web Developer, Data Engineer, Game Developer,   Data Scientist, Back-End Web Developer                                                                             0.014302\n",
       "  DevOps / SysAdmin,   Quality Assurance Engineer, Game Developer,   User Experience Designer,   Front-End Web Developer, Full-Stack Web Developer, Back-End Web Developer                               0.014302\n",
       "Full-Stack Web Developer,   Front-End Web Developer,   DevOps / SysAdmin, Back-End Web Developer                                                                                                         0.014302\n",
       "Information Security,   DevOps / SysAdmin, Back-End Web Developer, Full-Stack Web Developer,   Quality Assurance Engineer,   Mobile Developer,   Front-End Web Developer,   User Experience Designer     0.014302\n",
       "Full-Stack Web Developer,   Front-End Web Developer,   Product Manager,   Quality Assurance Engineer, Information Security,   Data Scientist,   User Experience Designer,   DevOps / SysAdmin            0.014302\n",
       "Full-Stack Web Developer, Back-End Web Developer, Information Security,   Front-End Web Developer                                                                                                        0.014302\n",
       "Full-Stack Web Developer,   Mobile Developer, Back-End Web Developer,   DevOps / SysAdmin,   Front-End Web Developer                                                                                     0.014302\n",
       "  Front-End Web Developer, designer                                                                                                                                                                      0.014302\n",
       "Information Security,   Front-End Web Developer, Data Engineer, Full-Stack Web Developer                                                                                                                 0.014302\n",
       "Software engineer                                                                                                                                                                                        0.014302\n",
       "  DevOps / SysAdmin, Campaign Manager                                                                                                                                                                    0.014302\n",
       "Full-Stack Web Developer, Data Engineer,   Front-End Web Developer,   Mobile Developer, Back-End Web Developer,   User Experience Designer,   Product Manager                                            0.014302\n",
       "Physicist                                                                                                                                                                                                0.014302\n",
       "  Front-End Web Developer,   Data Scientist, Full-Stack Web Developer,   Mobile Developer,   User Experience Designer, Data Engineer                                                                     0.014302\n",
       "Game Developer, Back-End Web Developer,   Front-End Web Developer,   Mobile Developer                                                                                                                    0.014302\n",
       "Name: JobRoleInterest, Length: 3213, dtype: float64"
      ]
     },
     "execution_count": 24,
     "metadata": {},
     "output_type": "execute_result"
    }
   ],
   "source": [
    "file['JobRoleInterest'].value_counts(normalize=True)*100"
   ]
  },
  {
   "cell_type": "code",
   "execution_count": 33,
   "metadata": {
    "collapsed": false
   },
   "outputs": [
    {
     "name": "stderr",
     "output_type": "stream",
     "text": [
      "/dataquest/system/env/python3/lib/python3.4/site-packages/seaborn/categorical.py:1428: FutureWarning:\n",
      "\n",
      "remove_na is deprecated and is a private function. Do not use.\n",
      "\n"
     ]
    },
    {
     "data": {
      "image/png": "[encoded data removed]",
      "text/plain": [
       "<matplotlib.figure.Figure at 0x7f0099943550>"
      ]
     },
     "metadata": {},
     "output_type": "display_data"
    }
   ],
   "source": [
    "x = file['JobRoleInterest'].value_counts(normalize=True)*100\n",
    "x = x[x>=0.5]\n",
    "sns.barplot(y=x.values, x=x.index)\n",
    "plt.xticks(rotation=90)\n",
    "\n",
    "plt.show()"
   ]
  },
  {
   "cell_type": "markdown",
   "metadata": {},
   "source": [
    "From the frequency table, it is apparent that some coders are interested in multiple tracks. But Web dev and Mobile development that is the focus of my company is within the top five tracks the participants are interested in. "
   ]
  },
  {
   "cell_type": "markdown",
   "metadata": {},
   "source": [
    "### Coders Location and Density"
   ]
  },
  {
   "cell_type": "code",
   "execution_count": 3,
   "metadata": {
    "collapsed": false
   },
   "outputs": [
    {
     "name": "stdout",
     "output_type": "stream",
     "text": [
      "<class 'pandas.core.frame.DataFrame'>\n",
      "Int64Index: 6992 entries, 1 to 18174\n",
      "Columns: 136 entries, Age to YouTubeTheNewBoston\n",
      "dtypes: float64(105), object(31)\n",
      "memory usage: 7.3+ MB\n"
     ]
    }
   ],
   "source": [
    "## dropping entries without interest\n",
    "file_updated = file[~file['JobRoleInterest'].isna()]\n",
    "file_updated.info()"
   ]
  },
  {
   "cell_type": "code",
   "execution_count": 4,
   "metadata": {
    "collapsed": false
   },
   "outputs": [
    {
     "data": {
      "text/plain": [
       "United States of America    45.700497\n",
       "India                        7.721556\n",
       "United Kingdom               4.606610\n",
       "Canada                       3.802281\n",
       "Poland                       1.915765\n",
       "Brazil                       1.886517\n",
       "Germany                      1.828020\n",
       "Australia                    1.637906\n",
       "Russia                       1.491664\n",
       "Ukraine                      1.301550\n",
       "Nigeria                      1.228429\n",
       "Spain                        1.126060\n",
       "France                       1.096812\n",
       "Romania                      1.038315\n",
       "Name: CountryLive, dtype: float64"
      ]
     },
     "execution_count": 4,
     "metadata": {},
     "output_type": "execute_result"
    }
   ],
   "source": [
    "country_freq = file_updated['CountryLive'].value_counts(normalize=True)*100\n",
    "country_freq = country_freq[country_freq >= 1]\n",
    "country_freq"
   ]
  },
  {
   "cell_type": "code",
   "execution_count": 50,
   "metadata": {
    "collapsed": false
   },
   "outputs": [
    {
     "name": "stderr",
     "output_type": "stream",
     "text": [
      "/dataquest/system/env/python3/lib/python3.4/site-packages/seaborn/categorical.py:1428: FutureWarning:\n",
      "\n",
      "remove_na is deprecated and is a private function. Do not use.\n",
      "\n"
     ]
    },
    {
     "data": {
      "image/png": "[encoded data removed]",
      "text/plain": [
       "<matplotlib.figure.Figure at 0x7f0d6ed99fd0>"
      ]
     },
     "metadata": {},
     "output_type": "display_data"
    }
   ],
   "source": [
    "sns.barplot(y=country_freq.values, x=country_freq.index)\n",
    "plt.xticks(rotation=90)\n",
    "plt.title('Participants Per Country\\n(Distributions)',\n",
    "          fontsize = 16)\n",
    "plt.show()"
   ]
  },
  {
   "cell_type": "markdown",
   "metadata": {},
   "source": [
    "Based on the graph, USA and India are the two major countries we should focus our advertisement in. This however would be shortsighted as we need to know how much the citizens are willing to pay."
   ]
  },
  {
   "cell_type": "markdown",
   "metadata": {},
   "source": [
    "### Money for Learning\n",
    "\n",
    "To improve the scope of the analysis, I will be investigating the top four countries which also happen to have their official language as English for how much the students are willing to pay per month. Our monthly subcription is $59. "
   ]
  },
  {
   "cell_type": "code",
   "execution_count": 5,
   "metadata": {
    "collapsed": false
   },
   "outputs": [
    {
     "name": "stderr",
     "output_type": "stream",
     "text": [
      "/dataquest/system/env/python3/lib/python3.4/site-packages/pandas/core/generic.py:4619: SettingWithCopyWarning:\n",
      "\n",
      "\n",
      "A value is trying to be set on a copy of a slice from a DataFrame\n",
      "\n",
      "See the caveats in the documentation: http://pandas.pydata.org/pandas-docs/stable/indexing.html#indexing-view-versus-copy\n",
      "\n",
      "/dataquest/system/env/python3/lib/python3.4/site-packages/ipykernel/__main__.py:3: SettingWithCopyWarning:\n",
      "\n",
      "\n",
      "A value is trying to be set on a copy of a slice from a DataFrame.\n",
      "Try using .loc[row_indexer,col_indexer] = value instead\n",
      "\n",
      "See the caveats in the documentation: http://pandas.pydata.org/pandas-docs/stable/indexing.html#indexing-view-versus-copy\n",
      "\n"
     ]
    }
   ],
   "source": [
    "#monthly payment\n",
    "file_updated['MonthsProgramming'].replace(0, 1, inplace=True)\n",
    "file_updated['monthly'] = file_updated['MoneyForLearning'] / file_updated['MonthsProgramming']"
   ]
  },
  {
   "cell_type": "code",
   "execution_count": 63,
   "metadata": {
    "collapsed": false
   },
   "outputs": [
    {
     "data": {
      "text/plain": [
       "675"
      ]
     },
     "execution_count": 63,
     "metadata": {},
     "output_type": "execute_result"
    }
   ],
   "source": [
    "# determining the number of null entries\n",
    "file_updated['monthly'].isna().sum()"
   ]
  },
  {
   "cell_type": "code",
   "execution_count": 6,
   "metadata": {
    "collapsed": false
   },
   "outputs": [
    {
     "name": "stdout",
     "output_type": "stream",
     "text": [
      "<class 'pandas.core.frame.DataFrame'>\n",
      "Int64Index: 6317 entries, 1 to 18171\n",
      "Columns: 137 entries, Age to monthly\n",
      "dtypes: float64(106), object(31)\n",
      "memory usage: 6.7+ MB\n"
     ]
    }
   ],
   "source": [
    "#removing entries without monthly expenditure\n",
    "\n",
    "file_updated_new = file_updated[~file_updated['monthly'].isna()]\n",
    "file_updated_new.info()"
   ]
  },
  {
   "cell_type": "code",
   "execution_count": 7,
   "metadata": {
    "collapsed": false
   },
   "outputs": [
    {
     "name": "stdout",
     "output_type": "stream",
     "text": [
      "<class 'pandas.core.frame.DataFrame'>\n",
      "Int64Index: 6212 entries, 1 to 18171\n",
      "Columns: 137 entries, Age to monthly\n",
      "dtypes: float64(106), object(31)\n",
      "memory usage: 6.5+ MB\n"
     ]
    }
   ],
   "source": [
    "#removing entries with no countries\n",
    "\n",
    "file_updated_new1 = file_updated_new[~file_updated_new['CountryLive'].isna()]\n",
    "file_updated_new1.info()"
   ]
  },
  {
   "cell_type": "code",
   "execution_count": 8,
   "metadata": {
    "collapsed": false
   },
   "outputs": [
    {
     "data": {
      "text/plain": [
       "CountryLive\n",
       "United States of America    227.997996\n",
       "Canada                      113.510961\n",
       "India                       135.100982\n",
       "United Kingdom               45.534443\n",
       "Name: monthly, dtype: float64"
      ]
     },
     "execution_count": 8,
     "metadata": {},
     "output_type": "execute_result"
    }
   ],
   "source": [
    "i = file_updated_new1.groupby('CountryLive').mean()['monthly'].sort_values(ascending=False)\n",
    "i[['United States of America', 'Canada', 'India', 'United Kingdom']]"
   ]
  },
  {
   "cell_type": "markdown",
   "metadata": {},
   "source": [
    "The top two countries based on the mean amount paid per learners per month are USA and India which is surprising because one would have expected that UK and Canada should have higher figures than India when considering GDP and other economic metrics. "
   ]
  },
  {
   "cell_type": "markdown",
   "metadata": {},
   "source": [
    "## Dealing with Outliers\n",
    "\n",
    "The anomaly that was observed above for Canada and UK can maybe due to the presence of outliers in the India data. Or perhaps it is just waht it is :) "
   ]
  },
  {
   "cell_type": "code",
   "execution_count": 17,
   "metadata": {
    "collapsed": false
   },
   "outputs": [],
   "source": [
    "countries = file_updated_new1[(file_updated_new1['CountryLive'] == 'United States of America') | (file_updated_new1['CountryLive'] == 'Canada') | (file_updated_new1['CountryLive'] == 'United Kingdom') | (file_updated_new1['CountryLive'] == 'India')]"
   ]
  },
  {
   "cell_type": "code",
   "execution_count": 49,
   "metadata": {
    "collapsed": false
   },
   "outputs": [
    {
     "name": "stderr",
     "output_type": "stream",
     "text": [
      "/dataquest/system/env/python3/lib/python3.4/site-packages/seaborn/categorical.py:454: FutureWarning:\n",
      "\n",
      "remove_na is deprecated and is a private function. Do not use.\n",
      "\n"
     ]
    },
    {
     "data": {
      "image/png": "[encoded data removed]",
      "text/plain": [
       "<matplotlib.figure.Figure at 0x7f0d6efd1780>"
      ]
     },
     "metadata": {},
     "output_type": "display_data"
    }
   ],
   "source": [
    "sns.boxplot(y='monthly', x='CountryLive', data=countries)\n",
    "plt.xticks(rotation=90)\n",
    "plt.title('Money Spent Per Month Per Country\\n(Distributions)',\n",
    "          fontsize = 16)\n",
    "plt.show()"
   ]
  },
  {
   "cell_type": "markdown",
   "metadata": {},
   "source": [
    "Apparently, there are some extreme outliers in the entries that is even obstructing the visualization of the plots. To remove outliers in the chart, I will limit the value to $10,000."
   ]
  },
  {
   "cell_type": "code",
   "execution_count": 34,
   "metadata": {
    "collapsed": false,
    "scrolled": true
   },
   "outputs": [
    {
     "data": {
      "text/html": [
       "<div>\n",
       "<style scoped>\n",
       "    .dataframe tbody tr th:only-of-type {\n",
       "        vertical-align: middle;\n",
       "    }\n",
       "\n",
       "    .dataframe tbody tr th {\n",
       "        vertical-align: top;\n",
       "    }\n",
       "\n",
       "    .dataframe thead th {\n",
       "        text-align: right;\n",
       "    }\n",
       "</style>\n",
       "<table border=\"1\" class=\"dataframe\">\n",
       "  <thead>\n",
       "    <tr style=\"text-align: right;\">\n",
       "      <th></th>\n",
       "      <th>Age</th>\n",
       "      <th>AttendedBootcamp</th>\n",
       "      <th>BootcampFinish</th>\n",
       "      <th>BootcampLoanYesNo</th>\n",
       "      <th>BootcampName</th>\n",
       "      <th>BootcampRecommend</th>\n",
       "      <th>ChildrenNumber</th>\n",
       "      <th>CityPopulation</th>\n",
       "      <th>CodeEventConferences</th>\n",
       "      <th>CodeEventDjangoGirls</th>\n",
       "      <th>...</th>\n",
       "      <th>YouTubeFunFunFunction</th>\n",
       "      <th>YouTubeGoogleDev</th>\n",
       "      <th>YouTubeLearnCode</th>\n",
       "      <th>YouTubeLevelUpTuts</th>\n",
       "      <th>YouTubeMIT</th>\n",
       "      <th>YouTubeMozillaHacks</th>\n",
       "      <th>YouTubeOther</th>\n",
       "      <th>YouTubeSimplilearn</th>\n",
       "      <th>YouTubeTheNewBoston</th>\n",
       "      <th>monthly</th>\n",
       "    </tr>\n",
       "  </thead>\n",
       "  <tbody>\n",
       "    <tr>\n",
       "      <th>1</th>\n",
       "      <td>34.0</td>\n",
       "      <td>0.0</td>\n",
       "      <td>NaN</td>\n",
       "      <td>NaN</td>\n",
       "      <td>NaN</td>\n",
       "      <td>NaN</td>\n",
       "      <td>NaN</td>\n",
       "      <td>less than 100,000</td>\n",
       "      <td>NaN</td>\n",
       "      <td>NaN</td>\n",
       "      <td>...</td>\n",
       "      <td>NaN</td>\n",
       "      <td>NaN</td>\n",
       "      <td>NaN</td>\n",
       "      <td>NaN</td>\n",
       "      <td>NaN</td>\n",
       "      <td>NaN</td>\n",
       "      <td>NaN</td>\n",
       "      <td>NaN</td>\n",
       "      <td>NaN</td>\n",
       "      <td>13.333333</td>\n",
       "    </tr>\n",
       "    <tr>\n",
       "      <th>2</th>\n",
       "      <td>21.0</td>\n",
       "      <td>0.0</td>\n",
       "      <td>NaN</td>\n",
       "      <td>NaN</td>\n",
       "      <td>NaN</td>\n",
       "      <td>NaN</td>\n",
       "      <td>NaN</td>\n",
       "      <td>more than 1 million</td>\n",
       "      <td>NaN</td>\n",
       "      <td>NaN</td>\n",
       "      <td>...</td>\n",
       "      <td>NaN</td>\n",
       "      <td>NaN</td>\n",
       "      <td>1.0</td>\n",
       "      <td>1.0</td>\n",
       "      <td>NaN</td>\n",
       "      <td>NaN</td>\n",
       "      <td>NaN</td>\n",
       "      <td>NaN</td>\n",
       "      <td>NaN</td>\n",
       "      <td>200.000000</td>\n",
       "    </tr>\n",
       "    <tr>\n",
       "      <th>6</th>\n",
       "      <td>29.0</td>\n",
       "      <td>0.0</td>\n",
       "      <td>NaN</td>\n",
       "      <td>NaN</td>\n",
       "      <td>NaN</td>\n",
       "      <td>NaN</td>\n",
       "      <td>NaN</td>\n",
       "      <td>between 100,000 and 1 million</td>\n",
       "      <td>1.0</td>\n",
       "      <td>NaN</td>\n",
       "      <td>...</td>\n",
       "      <td>NaN</td>\n",
       "      <td>NaN</td>\n",
       "      <td>NaN</td>\n",
       "      <td>NaN</td>\n",
       "      <td>NaN</td>\n",
       "      <td>NaN</td>\n",
       "      <td>NaN</td>\n",
       "      <td>NaN</td>\n",
       "      <td>NaN</td>\n",
       "      <td>0.000000</td>\n",
       "    </tr>\n",
       "    <tr>\n",
       "      <th>15</th>\n",
       "      <td>32.0</td>\n",
       "      <td>0.0</td>\n",
       "      <td>NaN</td>\n",
       "      <td>NaN</td>\n",
       "      <td>NaN</td>\n",
       "      <td>NaN</td>\n",
       "      <td>NaN</td>\n",
       "      <td>less than 100,000</td>\n",
       "      <td>NaN</td>\n",
       "      <td>NaN</td>\n",
       "      <td>...</td>\n",
       "      <td>NaN</td>\n",
       "      <td>NaN</td>\n",
       "      <td>NaN</td>\n",
       "      <td>NaN</td>\n",
       "      <td>NaN</td>\n",
       "      <td>NaN</td>\n",
       "      <td>NaN</td>\n",
       "      <td>NaN</td>\n",
       "      <td>NaN</td>\n",
       "      <td>0.000000</td>\n",
       "    </tr>\n",
       "    <tr>\n",
       "      <th>16</th>\n",
       "      <td>29.0</td>\n",
       "      <td>0.0</td>\n",
       "      <td>NaN</td>\n",
       "      <td>NaN</td>\n",
       "      <td>NaN</td>\n",
       "      <td>NaN</td>\n",
       "      <td>NaN</td>\n",
       "      <td>between 100,000 and 1 million</td>\n",
       "      <td>NaN</td>\n",
       "      <td>NaN</td>\n",
       "      <td>...</td>\n",
       "      <td>1.0</td>\n",
       "      <td>NaN</td>\n",
       "      <td>NaN</td>\n",
       "      <td>NaN</td>\n",
       "      <td>NaN</td>\n",
       "      <td>NaN</td>\n",
       "      <td>NaN</td>\n",
       "      <td>NaN</td>\n",
       "      <td>1.0</td>\n",
       "      <td>16.666667</td>\n",
       "    </tr>\n",
       "  </tbody>\n",
       "</table>\n",
       "<p>5 rows × 137 columns</p>\n",
       "</div>"
      ],
      "text/plain": [
       "     Age  AttendedBootcamp  BootcampFinish  BootcampLoanYesNo BootcampName  \\\n",
       "1   34.0               0.0             NaN                NaN          NaN   \n",
       "2   21.0               0.0             NaN                NaN          NaN   \n",
       "6   29.0               0.0             NaN                NaN          NaN   \n",
       "15  32.0               0.0             NaN                NaN          NaN   \n",
       "16  29.0               0.0             NaN                NaN          NaN   \n",
       "\n",
       "    BootcampRecommend  ChildrenNumber                 CityPopulation  \\\n",
       "1                 NaN             NaN              less than 100,000   \n",
       "2                 NaN             NaN            more than 1 million   \n",
       "6                 NaN             NaN  between 100,000 and 1 million   \n",
       "15                NaN             NaN              less than 100,000   \n",
       "16                NaN             NaN  between 100,000 and 1 million   \n",
       "\n",
       "    CodeEventConferences  CodeEventDjangoGirls     ...      \\\n",
       "1                    NaN                   NaN     ...       \n",
       "2                    NaN                   NaN     ...       \n",
       "6                    1.0                   NaN     ...       \n",
       "15                   NaN                   NaN     ...       \n",
       "16                   NaN                   NaN     ...       \n",
       "\n",
       "    YouTubeFunFunFunction  YouTubeGoogleDev  YouTubeLearnCode  \\\n",
       "1                     NaN               NaN               NaN   \n",
       "2                     NaN               NaN               1.0   \n",
       "6                     NaN               NaN               NaN   \n",
       "15                    NaN               NaN               NaN   \n",
       "16                    1.0               NaN               NaN   \n",
       "\n",
       "    YouTubeLevelUpTuts  YouTubeMIT  YouTubeMozillaHacks  YouTubeOther  \\\n",
       "1                  NaN         NaN                  NaN           NaN   \n",
       "2                  1.0         NaN                  NaN           NaN   \n",
       "6                  NaN         NaN                  NaN           NaN   \n",
       "15                 NaN         NaN                  NaN           NaN   \n",
       "16                 NaN         NaN                  NaN           NaN   \n",
       "\n",
       "   YouTubeSimplilearn  YouTubeTheNewBoston     monthly  \n",
       "1                 NaN                  NaN   13.333333  \n",
       "2                 NaN                  NaN  200.000000  \n",
       "6                 NaN                  NaN    0.000000  \n",
       "15                NaN                  NaN    0.000000  \n",
       "16                NaN                  1.0   16.666667  \n",
       "\n",
       "[5 rows x 137 columns]"
      ]
     },
     "execution_count": 34,
     "metadata": {},
     "output_type": "execute_result"
    }
   ],
   "source": [
    "countries_new = countries[countries['monthly']<=10000]\n",
    "countries_new.head()"
   ]
  },
  {
   "cell_type": "code",
   "execution_count": 35,
   "metadata": {
    "collapsed": false,
    "scrolled": true
   },
   "outputs": [
    {
     "data": {
      "text/plain": [
       "CountryLive\n",
       "United States of America    155.459187\n",
       "India                       135.100982\n",
       "Canada                      113.510961\n",
       "United Kingdom               45.534443\n",
       "Name: monthly, dtype: float64"
      ]
     },
     "execution_count": 35,
     "metadata": {},
     "output_type": "execute_result"
    }
   ],
   "source": [
    "# recalculate the mean\n",
    "countries_new.groupby('CountryLive').mean()['monthly'].sort_values(ascending=False)"
   ]
  },
  {
   "cell_type": "markdown",
   "metadata": {},
   "source": [
    "The India mean is still extreme, therefore, I will visualize again for the presence of outliers "
   ]
  },
  {
   "cell_type": "code",
   "execution_count": 48,
   "metadata": {
    "collapsed": false
   },
   "outputs": [
    {
     "name": "stderr",
     "output_type": "stream",
     "text": [
      "/dataquest/system/env/python3/lib/python3.4/site-packages/seaborn/categorical.py:454: FutureWarning:\n",
      "\n",
      "remove_na is deprecated and is a private function. Do not use.\n",
      "\n"
     ]
    },
    {
     "data": {
      "image/png": "[encoded data removed]",
      "text/plain": [
       "<matplotlib.figure.Figure at 0x7f0d70ca3748>"
      ]
     },
     "metadata": {},
     "output_type": "display_data"
    }
   ],
   "source": [
    "sns.boxplot(y='monthly', x='CountryLive', data=countries_new)\n",
    "plt.xticks(rotation=90)\n",
    "plt.title('Money Spent Per Month Per Country\\n(Distributions)',\n",
    "          fontsize = 16)\n",
    "plt.show()"
   ]
  },
  {
   "cell_type": "code",
   "execution_count": 40,
   "metadata": {
    "collapsed": false
   },
   "outputs": [],
   "source": [
    "#removing outliers; USA: above $6k, India: above 2k, Canada: above $4k\n",
    "USA = countries_new[countries_new['CountryLive'] == 'United States of America']\n",
    "India = countries_new[countries_new['CountryLive'] == 'India']\n",
    "Canada = countries_new[countries_new['CountryLive'] == 'Canada']\n",
    "UK = countries_new[countries_new['CountryLive'] == 'United Kingdom']"
   ]
  },
  {
   "cell_type": "code",
   "execution_count": 41,
   "metadata": {
    "collapsed": true
   },
   "outputs": [],
   "source": [
    "USA_new = USA[USA['monthly'] <= 6000]\n",
    "India_new = India[India['monthly'] <= 2000]\n",
    "Canada_new = Canada[Canada['monthly'] <= 4000]"
   ]
  },
  {
   "cell_type": "code",
   "execution_count": 44,
   "metadata": {
    "collapsed": true
   },
   "outputs": [],
   "source": [
    "#stacking\n",
    "pieces = (USA_new, India_new, Canada_new, UK)\n",
    "df = pd.concat(pieces, ignore_index = True)"
   ]
  },
  {
   "cell_type": "code",
   "execution_count": 45,
   "metadata": {
    "collapsed": false
   },
   "outputs": [
    {
     "name": "stdout",
     "output_type": "stream",
     "text": [
      "<class 'pandas.core.frame.DataFrame'>\n",
      "RangeIndex: 3895 entries, 0 to 3894\n",
      "Columns: 137 entries, Age to monthly\n",
      "dtypes: float64(106), object(31)\n",
      "memory usage: 4.1+ MB\n"
     ]
    }
   ],
   "source": [
    "df.info()"
   ]
  },
  {
   "cell_type": "code",
   "execution_count": 47,
   "metadata": {
    "collapsed": false
   },
   "outputs": [
    {
     "data": {
      "text/plain": [
       "CountryLive\n",
       "United States of America    142.654608\n",
       "Canada                       93.065400\n",
       "India                        65.758763\n",
       "United Kingdom               45.534443\n",
       "Name: monthly, dtype: float64"
      ]
     },
     "execution_count": 47,
     "metadata": {},
     "output_type": "execute_result"
    }
   ],
   "source": [
    "# recalculate the mean\n",
    "df.groupby('CountryLive').mean()['monthly'].sort_values(ascending=False)"
   ]
  },
  {
   "cell_type": "markdown",
   "metadata": {},
   "source": [
    "After the extreme outliers are treated, Canada improved. And even though the case of the UK is still somewhat anomalous, I will proceed since I need two countries for my recommendation."
   ]
  },
  {
   "cell_type": "markdown",
   "metadata": {},
   "source": [
    "### Choosing the two Major Markets\n",
    "Apparently, the USA is the best market for our advertising campaign. But which is the second to choose? Our monthly subscription is $59 and we need to consider the population of potential customers in the country too. \n"
   ]
  },
  {
   "cell_type": "code",
   "execution_count": 56,
   "metadata": {
    "collapsed": false
   },
   "outputs": [
    {
     "data": {
      "text/plain": [
       "United States of America    2920\n",
       "India                        457\n",
       "United Kingdom               279\n",
       "Canada                       239\n",
       "Name: CountryLive, dtype: int64"
      ]
     },
     "execution_count": 56,
     "metadata": {},
     "output_type": "execute_result"
    }
   ],
   "source": [
    "df['CountryLive'].value_counts()"
   ]
  },
  {
   "cell_type": "markdown",
   "metadata": {},
   "source": [
    "If we were to select another country to advertise, it would be India since it has the highest number of potential customers after the United States. But given that we have limited funds for advertisement, would it be worth sharing it between the USA and India? I think this a decision best left for the marketing team given their domain knowledge. Will take me leaveeee...\n",
    "\n",
    "Cheers!\n",
    "\n",
    "Lawal O.\n"
   ]
  }
 ],
 "metadata": {
  "kernelspec": {
   "display_name": "Python 3",
   "language": "python",
   "name": "python3"
  },
  "language_info": {
   "codemirror_mode": {
    "name": "ipython",
    "version": 3
   },
   "file_extension": ".py",
   "mimetype": "text/x-python",
   "name": "python",
   "nbconvert_exporter": "python",
   "pygments_lexer": "ipython3",
   "version": "3.4.3"
  }
 },
 "nbformat": 4,
 "nbformat_minor": 2
}
